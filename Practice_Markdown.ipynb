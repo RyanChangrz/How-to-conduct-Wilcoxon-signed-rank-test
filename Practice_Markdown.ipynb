{
  "cells": [
    {
      "cell_type": "markdown",
      "metadata": {
        "id": "view-in-github",
        "colab_type": "text"
      },
      "source": [
        "<a href=\"https://colab.research.google.com/github/RyanChangrz/How-to-conduct-Wilcoxon-signed-rank-test/blob/main/Practice_Markdown.ipynb\" target=\"_parent\"><img src=\"https://colab.research.google.com/assets/colab-badge.svg\" alt=\"Open In Colab\"/></a>"
      ]
    },
    {
      "cell_type": "markdown",
      "metadata": {
        "id": "2yOICYemqj9m"
      },
      "source": [
        "This notebook lets you experiment with producing repeatable technical documentation.  Use this notebook to do the following actions:\n",
        "\n",
        "* Create a code cell and print a Python Hello World statement:  `print(\"hello world\")`\n",
        "* Create a Markdown Cell and add a Title using `#` and then a statement using plain text.  You can looks at the source code for this cell to get an idea of how to use Markdown.\n",
        "* Take some ideas from the [Master Markdown Github Guide](https://guides.github.com/features/mastering-markdown/) and implement them here.\n",
        "* Download this notebook as a `.ipynb` file and check into a Github Project.  You can [see an example here](https://github.com/noahgift/duke-coursera-ccf-lab1/blob/main/Practice-Markdown.ipynb).\n",
        "* Open your notebook in Google Colab and save it into the same Github Project.  You can [see an example here](https://github.com/noahgift/duke-coursera-ccf-lab1/blob/main/Practice_Markdown_with_colab.ipynb).\n"
      ]
    },
    {
      "cell_type": "code",
      "execution_count": null,
      "metadata": {
        "id": "mFfKXV3qqj9o",
        "outputId": "de5de81e-f698-47c7-fdda-67fdfd99ec21"
      },
      "outputs": [
        {
          "name": "stdout",
          "output_type": "stream",
          "text": [
            "hello world\n"
          ]
        }
      ],
      "source": [
        "print(\"hello world\")\n"
      ]
    },
    {
      "cell_type": "markdown",
      "metadata": {
        "id": "VwoW8iVkqj9p"
      },
      "source": [
        "## How to conduct a Wilcoxon signed rank test for 2 population means.\n",
        "\n",
        "1) Derive the null and alternative hypothesis.\n",
        "\n",
        "2) Rank the observations from 1 to n based on magnitude _(n is total sample size)_ , average out the rankings for equal values regardless of direction (+/-).\n",
        "\n",
        "2) Sum up the ranks **separately** in each sample.\n",
        "\n",
        "3) Choose the **smaller** group sum rank / The **smaller sum** of rank for **_equal size_** groups.\n",
        "\n",
        "4) Calculate P value using the table distribution shown below.\n",
        "\n",
        "![download](https://github.com/RyanChangrz/Technical-discussions-/assets/155503503/546dc421-454d-489f-94d8-995d15cf95f7)\n",
        "\n",
        "5) If p-value is **more** than the significance level, the null hypothesis **cannot be rejected** and vice versa.\n",
        "\n"
      ]
    },
    {
      "cell_type": "code",
      "execution_count": null,
      "metadata": {
        "id": "heNzwTCHqj9p"
      },
      "outputs": [],
      "source": []
    }
  ],
  "metadata": {
    "kernelspec": {
      "display_name": "Python 3",
      "language": "python",
      "name": "python3"
    },
    "language_info": {
      "codemirror_mode": {
        "name": "ipython",
        "version": 3
      },
      "file_extension": ".py",
      "mimetype": "text/x-python",
      "name": "python",
      "nbconvert_exporter": "python",
      "pygments_lexer": "ipython3",
      "version": "3.7.6"
    },
    "colab": {
      "provenance": [],
      "include_colab_link": true
    }
  },
  "nbformat": 4,
  "nbformat_minor": 0
}